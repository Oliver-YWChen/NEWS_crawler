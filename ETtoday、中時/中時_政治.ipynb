{
 "cells": [
  {
   "cell_type": "code",
   "execution_count": null,
   "metadata": {},
   "outputs": [],
   "source": [
    "from selenium import webdriver\n",
    "from pyquery import PyQuery as pq\n",
    "from openpyxl import Workbook"
   ]
  },
  {
   "cell_type": "code",
   "execution_count": null,
   "metadata": {},
   "outputs": [],
   "source": [
    "driver = webdriver.Chrome(\"D:\\WEI\\大三下\\程式設計\\期末\\chromedriver\")\n",
    "driver.get(\"https://www.chinatimes.com/politic/total?page=1&chdtv\")\n",
    "driver.current_url"
   ]
  },
  {
   "cell_type": "code",
   "execution_count": null,
   "metadata": {},
   "outputs": [],
   "source": [
    "onenews=[]\n",
    "polnews=[]\n",
    "i=4\n",
    "\n",
    "while True:\n",
    "    try:\n",
    "        driver.find_element_by_css_selector(\"body > div.wrapper > div > div.column-wrapper.clear-fix > div > section > nav > ul > li:nth-child({}) > a\".format(i)).click()\n",
    "        html = driver.find_element_by_css_selector(\"*\").get_attribute(\"outerHTML\")\n",
    "        doc = pq(html)\n",
    "        for h in doc(\"body .wrapper .column-wrapper.clear-fix :nth-child(n+2) h3 > a\").items():\n",
    "            if h.attr(\"href\")[:5] !=\"/real\":\n",
    "                continue\n",
    "            onenews.append(h.text())\n",
    "            onenews.append(\"www.chinatimes.com\"+h.attr(\"href\"))\n",
    "            polnews.append(onenews)\n",
    "            onenews=[]\n",
    "        i+=1\n",
    "    except:\n",
    "        break"
   ]
  },
  {
   "cell_type": "code",
   "execution_count": null,
   "metadata": {},
   "outputs": [],
   "source": [
    "book = Workbook()\n",
    "sheet = book.active\n",
    "\n",
    "for row in polnews:\n",
    "    sheet.append(row)\n",
    "\n",
    "book.save('中時_政治.xlsx')"
   ]
  }
 ],
 "metadata": {
  "kernelspec": {
   "display_name": "Python 3",
   "language": "python",
   "name": "python3"
  },
  "language_info": {
   "codemirror_mode": {
    "name": "ipython",
    "version": 3
   },
   "file_extension": ".py",
   "mimetype": "text/x-python",
   "name": "python",
   "nbconvert_exporter": "python",
   "pygments_lexer": "ipython3",
   "version": "3.7.2"
  }
 },
 "nbformat": 4,
 "nbformat_minor": 2
}
