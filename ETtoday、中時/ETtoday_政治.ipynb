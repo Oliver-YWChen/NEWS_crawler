{
 "cells": [
  {
   "cell_type": "code",
   "execution_count": 8,
   "metadata": {},
   "outputs": [],
   "source": [
    "from selenium import webdriver\n",
    "from selenium.webdriver.common.keys import Keys\n",
    "import time\n",
    "from pyquery import PyQuery as pq\n",
    "from openpyxl import Workbook"
   ]
  },
  {
   "cell_type": "code",
   "execution_count": 9,
   "metadata": {},
   "outputs": [
    {
     "data": {
      "text/plain": [
       "'https://www.ettoday.net/news/focus/%E6%94%BF%E6%B2%BB/'"
      ]
     },
     "execution_count": 9,
     "metadata": {},
     "output_type": "execute_result"
    }
   ],
   "source": [
    "driver = webdriver.Chrome(\"D:\\WEI\\大三下\\程式設計\\期末\\chromedriver\")\n",
    "driver.get(\"https://www.ettoday.net/news/focus/%E6%94%BF%E6%B2%BB/\")\n",
    "driver.current_url"
   ]
  },
  {
   "cell_type": "code",
   "execution_count": 10,
   "metadata": {},
   "outputs": [],
   "source": [
    "last_height = driver.execute_script(\"return document.body.scrollHeight\")\n",
    "while True:\n",
    "    driver.execute_script(\"window.scrollTo(0, document.body.scrollHeight);\")\n",
    "    time.sleep(2) #改sleep時間可確保網頁擷取成功\n",
    "    new_height = driver.execute_script(\"return document.body.scrollHeight\")\n",
    "    if new_height == last_height:\n",
    "        break\n",
    "    last_height = new_height"
   ]
  },
  {
   "cell_type": "code",
   "execution_count": 11,
   "metadata": {},
   "outputs": [],
   "source": [
    "news=[]\n",
    "polnews=[]\n",
    "html = driver.find_element_by_css_selector(\"*\").get_attribute(\"outerHTML\")\n",
    "doc = pq(html)\n",
    "\n",
    "for a in doc(\"#news > .wrapper_box .container_box .c1 > .block.block_1.infinite_scroll .block_content :nth-child(n) > h3 > a\").items():\n",
    "    news.append(a.text().replace(u'\\u3000',u' '))\n",
    "    news.append(\"www.ettoday.net/\"+a.attr(\"href\"))\n",
    "    polnews.append(news)\n",
    "    news=[]"
   ]
  },
  {
   "cell_type": "code",
   "execution_count": 12,
   "metadata": {},
   "outputs": [],
   "source": [
    "book = Workbook()\n",
    "sheet = book.active\n",
    "\n",
    "for row in polnews:\n",
    "    sheet.append(row)\n",
    "\n",
    "book.save('ETtoday_政治.xlsx')"
   ]
  },
  {
   "cell_type": "code",
   "execution_count": null,
   "metadata": {},
   "outputs": [],
   "source": []
  }
 ],
 "metadata": {
  "kernelspec": {
   "display_name": "Python 3",
   "language": "python",
   "name": "python3"
  },
  "language_info": {
   "codemirror_mode": {
    "name": "ipython",
    "version": 3
   },
   "file_extension": ".py",
   "mimetype": "text/x-python",
   "name": "python",
   "nbconvert_exporter": "python",
   "pygments_lexer": "ipython3",
   "version": "3.7.2"
  }
 },
 "nbformat": 4,
 "nbformat_minor": 2
}
