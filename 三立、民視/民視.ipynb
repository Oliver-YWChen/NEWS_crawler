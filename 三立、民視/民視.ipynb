{
 "cells": [
  {
   "cell_type": "code",
   "execution_count": 1,
   "metadata": {},
   "outputs": [],
   "source": [
    "import time\n",
    "from selenium import webdriver\n",
    "from openpyxl import Workbook\n",
    "\n",
    "browser=webdriver.Chrome(\"D:\\WEI\\大三下\\程式設計\\期末\\chromedriver\")\n",
    "topic = [\"POL\",\"INT\"]\n",
    "browser.get(\"https://www.ftvnews.com.tw/news/overview/INT\") #最後一個段落改成POL=政治；INT=國際\n",
    "time.sleep(2) #改sleep時間確保新聞內容成功擷取\n",
    "\n",
    "count = 0\n",
    "while count<30: #改迴圈數字增加新聞內容\n",
    "    elem = browser.find_element_by_xpath('//a[@class=\"btn\"]')\n",
    "    browser.execute_script(\"arguments[0].click();\", elem)\n",
    "    count+=1\n",
    "time.sleep(2)\n",
    "divEle = browser.find_elements_by_xpath('//ul[@class=\"clearfix\"]/li | //ul[@class=\"clearfix mt-30\"]/li')\n",
    "link = browser.find_elements_by_xpath('//ul[@class=\"clearfix\"]/li/a | //ul[@class=\"clearfix mt-30\"]/li/a')\n",
    "\n",
    "data = []\n",
    "for d,l in zip(divEle,link):\n",
    "    if not d.text.split(\"\\n\")[0]:#advertisement\n",
    "        continue\n",
    "    data.append([d.text.split(\"\\n\")[0],l.get_attribute(\"href\")])"
   ]
  },
  {
   "cell_type": "code",
   "execution_count": 2,
   "metadata": {},
   "outputs": [],
   "source": [
    "book = Workbook()\n",
    "sheet = book.active\n",
    "\n",
    "for row in data:\n",
    "    sheet.append(row)\n",
    "\n",
    "book.save('民視_.xlsx')"
   ]
  },
  {
   "cell_type": "code",
   "execution_count": null,
   "metadata": {},
   "outputs": [],
   "source": []
  }
 ],
 "metadata": {
  "kernelspec": {
   "display_name": "Python 3",
   "language": "python",
   "name": "python3"
  },
  "language_info": {
   "codemirror_mode": {
    "name": "ipython",
    "version": 3
   },
   "file_extension": ".py",
   "mimetype": "text/x-python",
   "name": "python",
   "nbconvert_exporter": "python",
   "pygments_lexer": "ipython3",
   "version": "3.7.2"
  }
 },
 "nbformat": 4,
 "nbformat_minor": 2
}
