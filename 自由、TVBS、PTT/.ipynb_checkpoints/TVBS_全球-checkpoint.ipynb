{
 "cells": [
  {
   "cell_type": "code",
   "execution_count": 1,
   "metadata": {},
   "outputs": [],
   "source": [
    "#import模組\n",
    "from selenium import webdriver\n",
    "import requests\n",
    "from pyquery import PyQuery as pq\n",
    "import time\n",
    "from openpyxl import Workbook"
   ]
  },
  {
   "cell_type": "code",
   "execution_count": 2,
   "metadata": {},
   "outputs": [
    {
     "data": {
      "text/plain": [
       "'https://news.tvbs.com.tw/world'"
      ]
     },
     "execution_count": 2,
     "metadata": {},
     "output_type": "execute_result"
    }
   ],
   "source": [
    "#開啟chromedriver\n",
    "driver = webdriver.Chrome('D:\\WEI\\大三下\\程式設計\\期末\\chromedriver') #位置改成chromedriver所在\n",
    "driver.get('https://news.tvbs.com.tw/world')\n",
    "driver.current_url"
   ]
  },
  {
   "cell_type": "code",
   "execution_count": 3,
   "metadata": {},
   "outputs": [],
   "source": [
    "#擷取新聞的fuction\n",
    "db = []\n",
    "def get_news():\n",
    "    global db\n",
    "    html = driver.find_element_by_css_selector('*').get_attribute('outerHTML')\n",
    "    doc = pq(html)\n",
    "    \n",
    "    title_List = []\n",
    "    for each in doc('.content_center_list_box .txt').items():\n",
    "        title_List.append(str(each.text()))\n",
    "        \n",
    "    dic_List = []\n",
    "    n = -1\n",
    "    for each in doc('#block_768 li > div.content_center_list_box > div.content_center_contxt_real_news > ul li').items():\n",
    "        hr = 'https://news.tvbs.com.tw' + str(each('a').attr('href'))\n",
    "        \n",
    "        n += 1\n",
    "        dic_List.append([title_List[n],hr])\n",
    "\n",
    "    db = db + dic_List"
   ]
  },
  {
   "cell_type": "code",
   "execution_count": 4,
   "metadata": {},
   "outputs": [],
   "source": [
    "#操作selenium的迴圈\n",
    "for i in range(100): #可以改跑的次數，確保網頁爬取夠多資料\n",
    "    driver.execute_script('window.scrollTo(0, document.body.scrollHeight);')\n",
    "    time.sleep(0.5) #可以改sleep時間，確保網頁爬取夠多資料\n",
    "get_news()"
   ]
  },
  {
   "cell_type": "code",
   "execution_count": 5,
   "metadata": {},
   "outputs": [],
   "source": [
    "#建立csv檔，並將date寫入csv\n",
    "book = Workbook()\n",
    "sheet = book.active\n",
    "\n",
    "for row in db:\n",
    "    sheet.append(row)\n",
    "\n",
    "book.save('TVBS_全球.xlsx')"
   ]
  },
  {
   "cell_type": "code",
   "execution_count": null,
   "metadata": {},
   "outputs": [],
   "source": [
    "driver.quit()"
   ]
  }
 ],
 "metadata": {
  "kernelspec": {
   "display_name": "Python 3",
   "language": "python",
   "name": "python3"
  },
  "language_info": {
   "codemirror_mode": {
    "name": "ipython",
    "version": 3
   },
   "file_extension": ".py",
   "mimetype": "text/x-python",
   "name": "python",
   "nbconvert_exporter": "python",
   "pygments_lexer": "ipython3",
   "version": "3.7.2"
  }
 },
 "nbformat": 4,
 "nbformat_minor": 2
}
