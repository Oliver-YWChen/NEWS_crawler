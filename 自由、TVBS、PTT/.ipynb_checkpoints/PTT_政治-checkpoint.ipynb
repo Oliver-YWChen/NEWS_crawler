{
 "cells": [
  {
   "cell_type": "code",
   "execution_count": 13,
   "metadata": {},
   "outputs": [],
   "source": [
    "#import模組\n",
    "from selenium import webdriver\n",
    "import requests\n",
    "from pyquery import PyQuery as pq\n",
    "import time\n",
    "from openpyxl import Workbook"
   ]
  },
  {
   "cell_type": "code",
   "execution_count": 14,
   "metadata": {},
   "outputs": [
    {
     "data": {
      "text/plain": [
       "'https://www.ptt.cc/bbs/HatePolitics/index.html'"
      ]
     },
     "execution_count": 14,
     "metadata": {},
     "output_type": "execute_result"
    }
   ],
   "source": [
    "#開啟chromedriver\n",
    "driver = webdriver.Chrome('D:\\WEI\\大三下\\程式設計\\期末\\chromedriver')\n",
    "driver.get('https://www.ptt.cc/bbs/HatePolitics/index.html')\n",
    "driver.current_url"
   ]
  },
  {
   "cell_type": "code",
   "execution_count": 15,
   "metadata": {},
   "outputs": [],
   "source": [
    "#擷取新聞的fuction\n",
    "db = []\n",
    "def get_news():\n",
    "    global db\n",
    "    html = driver.find_element_by_css_selector('*').get_attribute('outerHTML')\n",
    "    doc = pq(html)\n",
    "    \n",
    "    title_List = []\n",
    "    for each in doc('#main-container > div.r-list-container.action-bar-margin.bbs-screen div > div.title').items():\n",
    "        title_List.append(str(each.text()))\n",
    "        \n",
    "    \n",
    "    dic_List = []\n",
    "    n = -1\n",
    "    for each in doc('#main-container > div.r-list-container.action-bar-margin.bbs-screen div > div.title > a').items():\n",
    "        hr = each('a').attr('href')\n",
    "        if hr != None:\n",
    "            n += 1\n",
    "            dic_List.append([title_List[n],hr])\n",
    "\n",
    "    db = db + dic_List"
   ]
  },
  {
   "cell_type": "code",
   "execution_count": 16,
   "metadata": {},
   "outputs": [],
   "source": [
    "#操作selenium的迴圈\n",
    "for i in range(80): #可以改跑的次數，確保網頁爬取夠多資料\n",
    "    driver.find_element_by_css_selector('#action-bar-container > div > div.btn-group.btn-group-paging \\\n",
    "                                            > a:nth-child(2)').click()\n",
    "    get_news()\n",
    "    time.sleep(0.5) #可以改sleep時間，確保網頁爬取夠多資料"
   ]
  },
  {
   "cell_type": "code",
   "execution_count": 17,
   "metadata": {},
   "outputs": [],
   "source": [
    "#建立csv檔，並將date寫入csv\n",
    "book = Workbook()\n",
    "sheet = book.active\n",
    "\n",
    "for row in db:\n",
    "    sheet.append(row)\n",
    "\n",
    "book.save('PTT_政治.xlsx')"
   ]
  },
  {
   "cell_type": "code",
   "execution_count": null,
   "metadata": {},
   "outputs": [],
   "source": [
    "driver.quit()"
   ]
  }
 ],
 "metadata": {
  "kernelspec": {
   "display_name": "Python 3",
   "language": "python",
   "name": "python3"
  },
  "language_info": {
   "codemirror_mode": {
    "name": "ipython",
    "version": 3
   },
   "file_extension": ".py",
   "mimetype": "text/x-python",
   "name": "python",
   "nbconvert_exporter": "python",
   "pygments_lexer": "ipython3",
   "version": "3.7.2"
  }
 },
 "nbformat": 4,
 "nbformat_minor": 2
}
